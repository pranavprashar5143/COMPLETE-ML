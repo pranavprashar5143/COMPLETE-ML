{
 "cells": [
  {
   "cell_type": "code",
   "execution_count": 1,
   "id": "7ef02ebd",
   "metadata": {},
   "outputs": [],
   "source": [
    "#handling imbalanced data set\n",
    "# 1.up sampling\n",
    "# 2.down sampling\n",
    "import numpy as np\n",
    "import pandas as pd \n",
    "\n",
    "np.random.seed(123)\n",
    "n_samples=1000\n",
    "class_0_ratio=0.9\n",
    "n_class_0=int(n_samples*class_0_ratio)\n",
    "n_class_1=n_samples-n_class_0"
   ]
  },
  {
   "cell_type": "code",
   "execution_count": 2,
   "id": "3a8a654d",
   "metadata": {},
   "outputs": [
    {
     "data": {
      "text/plain": [
       "(900, 100)"
      ]
     },
     "execution_count": 2,
     "metadata": {},
     "output_type": "execute_result"
    }
   ],
   "source": [
    "n_class_0,n_class_1"
   ]
  },
  {
   "cell_type": "code",
   "execution_count": 8,
   "id": "dbf8c37d",
   "metadata": {},
   "outputs": [
    {
     "name": "stdout",
     "output_type": "stream",
     "text": [
      "   feature_1  feature_2  target\n",
      "0  -0.904204  -0.398747       0\n",
      "1   2.705183  -0.405365       1\n",
      "2  -0.232071  -0.564452       0\n",
      "3  -0.125152   0.448521       0\n",
      "4  -1.953853  -0.131361       0\n"
     ]
    }
   ],
   "source": [
    "\n",
    "\n",
    "# Create the DataFrame for class 0 with target value 0\n",
    "class_0 = pd.DataFrame({\n",
    "    'feature_1': np.random.normal(loc=0, scale=1, size=n_class_0),\n",
    "    'feature_2': np.random.normal(loc=0, scale=1, size=n_class_0),\n",
    "    'target': [0] * n_class_0  # Corrected to use n_class_0\n",
    "})\n",
    "\n",
    "# Create the DataFrame for class 1 with target value 1\n",
    "class_1 = pd.DataFrame({\n",
    "    'feature_1': np.random.normal(loc=2, scale=1, size=n_class_1),\n",
    "    'feature_2': np.random.normal(loc=2, scale=1, size=n_class_1),\n",
    "    'target': [1] * n_class_1\n",
    "})\n",
    "\n",
    "# Combine the two classes into one DataFrame and shuffle the rows\n",
    "df = pd.concat([class_0, class_1], ignore_index=True).sample(frac=1).reset_index(drop=True)\n",
    "\n",
    "# Display the first few rows of the imbalanced dataset\n",
    "print(df.head())\n"
   ]
  },
  {
   "cell_type": "code",
   "execution_count": 12,
   "id": "4a8256d3",
   "metadata": {},
   "outputs": [
    {
     "data": {
      "text/plain": [
       "target\n",
       "0    900\n",
       "1    100\n",
       "Name: count, dtype: int64"
      ]
     },
     "execution_count": 12,
     "metadata": {},
     "output_type": "execute_result"
    }
   ],
   "source": [
    "df['target'].value_counts()"
   ]
  },
  {
   "cell_type": "code",
   "execution_count": 13,
   "id": "80ba80d3",
   "metadata": {},
   "outputs": [],
   "source": [
    "df_minority=df[df['target']==1]\n",
    "df_majority=df[df['target']==0]"
   ]
  },
  {
   "cell_type": "code",
   "execution_count": 14,
   "id": "83bf781a",
   "metadata": {},
   "outputs": [],
   "source": [
    "from sklearn.utils import resample"
   ]
  },
  {
   "cell_type": "code",
   "execution_count": 16,
   "id": "add33906",
   "metadata": {},
   "outputs": [],
   "source": [
    "df_minority_unsampled= resample(df_minority,replace=True,\n",
    "         n_samples=len(df_majority),\n",
    "         random_state=42)"
   ]
  },
  {
   "cell_type": "code",
   "execution_count": 17,
   "id": "e5e4b9cd",
   "metadata": {},
   "outputs": [
    {
     "data": {
      "text/plain": [
       "(900, 3)"
      ]
     },
     "execution_count": 17,
     "metadata": {},
     "output_type": "execute_result"
    }
   ],
   "source": [
    "df_minority_unsampled.shape"
   ]
  },
  {
   "cell_type": "code",
   "execution_count": 18,
   "id": "676a089e",
   "metadata": {},
   "outputs": [
    {
     "data": {
      "text/html": [
       "<div>\n",
       "<style scoped>\n",
       "    .dataframe tbody tr th:only-of-type {\n",
       "        vertical-align: middle;\n",
       "    }\n",
       "\n",
       "    .dataframe tbody tr th {\n",
       "        vertical-align: top;\n",
       "    }\n",
       "\n",
       "    .dataframe thead th {\n",
       "        text-align: right;\n",
       "    }\n",
       "</style>\n",
       "<table border=\"1\" class=\"dataframe\">\n",
       "  <thead>\n",
       "    <tr style=\"text-align: right;\">\n",
       "      <th></th>\n",
       "      <th>feature_1</th>\n",
       "      <th>feature_2</th>\n",
       "      <th>target</th>\n",
       "    </tr>\n",
       "  </thead>\n",
       "  <tbody>\n",
       "    <tr>\n",
       "      <th>529</th>\n",
       "      <td>2.876278</td>\n",
       "      <td>2.083085</td>\n",
       "      <td>1</td>\n",
       "    </tr>\n",
       "    <tr>\n",
       "      <th>936</th>\n",
       "      <td>1.423537</td>\n",
       "      <td>0.987403</td>\n",
       "      <td>1</td>\n",
       "    </tr>\n",
       "    <tr>\n",
       "      <th>121</th>\n",
       "      <td>0.901952</td>\n",
       "      <td>1.850593</td>\n",
       "      <td>1</td>\n",
       "    </tr>\n",
       "    <tr>\n",
       "      <th>747</th>\n",
       "      <td>1.642604</td>\n",
       "      <td>0.536220</td>\n",
       "      <td>1</td>\n",
       "    </tr>\n",
       "    <tr>\n",
       "      <th>642</th>\n",
       "      <td>-0.188312</td>\n",
       "      <td>2.314731</td>\n",
       "      <td>1</td>\n",
       "    </tr>\n",
       "  </tbody>\n",
       "</table>\n",
       "</div>"
      ],
      "text/plain": [
       "     feature_1  feature_2  target\n",
       "529   2.876278   2.083085       1\n",
       "936   1.423537   0.987403       1\n",
       "121   0.901952   1.850593       1\n",
       "747   1.642604   0.536220       1\n",
       "642  -0.188312   2.314731       1"
      ]
     },
     "execution_count": 18,
     "metadata": {},
     "output_type": "execute_result"
    }
   ],
   "source": [
    "df_minority_unsampled.head()"
   ]
  },
  {
   "cell_type": "code",
   "execution_count": 19,
   "id": "1a877387",
   "metadata": {},
   "outputs": [],
   "source": [
    "df_unsampled= pd.concat([df_majority,df_minority_unsampled])"
   ]
  },
  {
   "cell_type": "code",
   "execution_count": 20,
   "id": "a7a39d26",
   "metadata": {},
   "outputs": [
    {
     "data": {
      "text/plain": [
       "target\n",
       "0    900\n",
       "1    900\n",
       "Name: count, dtype: int64"
      ]
     },
     "execution_count": 20,
     "metadata": {},
     "output_type": "execute_result"
    }
   ],
   "source": [
    "df_unsampled['target'].value_counts()"
   ]
  },
  {
   "cell_type": "code",
   "execution_count": 22,
   "id": "5d0bcd67",
   "metadata": {},
   "outputs": [
    {
     "name": "stdout",
     "output_type": "stream",
     "text": [
      "   feature_1  feature_2  target\n",
      "0  -0.458815  -0.986592       0\n",
      "1   2.151965   1.988895       1\n",
      "2   2.224520   2.201467       1\n",
      "3  -0.262915  -0.747584       0\n",
      "4  -0.775421   0.132885       0\n"
     ]
    }
   ],
   "source": [
    "##down sampling \n",
    "\n",
    "\n",
    "# Create the DataFrame for class 0 with target value 0\n",
    "class_0 = pd.DataFrame({\n",
    "    'feature_1': np.random.normal(loc=0, scale=1, size=n_class_0),\n",
    "    'feature_2': np.random.normal(loc=0, scale=1, size=n_class_0),\n",
    "    'target': [0] * n_class_0  # Corrected to use n_class_0\n",
    "})\n",
    "\n",
    "# Create the DataFrame for class 1 with target value 1\n",
    "class_1 = pd.DataFrame({\n",
    "    'feature_1': np.random.normal(loc=2, scale=1, size=n_class_1),\n",
    "    'feature_2': np.random.normal(loc=2, scale=1, size=n_class_1),\n",
    "    'target': [1] * n_class_1\n",
    "})\n",
    "\n",
    "# Combine the two classes into one DataFrame and shuffle the rows\n",
    "df = pd.concat([class_0, class_1], ignore_index=True).sample(frac=1).reset_index(drop=True)\n",
    "\n",
    "# Display the first few rows of the imbalanced dataset\n",
    "print(df.head())\n",
    "df_minority=df[df['target']==1]\n",
    "df_majority=df[df['target']==0]"
   ]
  },
  {
   "cell_type": "code",
   "execution_count": null,
   "id": "086e4c46",
   "metadata": {},
   "outputs": [],
   "source": [
    "df_majority_unsampled= resample(df_minority,replace=False,\n",
    "         n_samples=len(df_minority),\n",
    "         random_state=42)"
   ]
  },
  {
   "cell_type": "code",
   "execution_count": 25,
   "id": "f2fee50e",
   "metadata": {},
   "outputs": [
    {
     "data": {
      "text/plain": [
       "(900, 3)"
      ]
     },
     "execution_count": 25,
     "metadata": {},
     "output_type": "execute_result"
    }
   ],
   "source": [
    "df_majority_unsampled.shape"
   ]
  },
  {
   "cell_type": "code",
   "execution_count": null,
   "id": "ae0a9c2a",
   "metadata": {},
   "outputs": [],
   "source": []
  }
 ],
 "metadata": {
  "kernelspec": {
   "display_name": "Python 3",
   "language": "python",
   "name": "python3"
  },
  "language_info": {
   "codemirror_mode": {
    "name": "ipython",
    "version": 3
   },
   "file_extension": ".py",
   "mimetype": "text/x-python",
   "name": "python",
   "nbconvert_exporter": "python",
   "pygments_lexer": "ipython3",
   "version": "3.13.2"
  }
 },
 "nbformat": 4,
 "nbformat_minor": 5
}
